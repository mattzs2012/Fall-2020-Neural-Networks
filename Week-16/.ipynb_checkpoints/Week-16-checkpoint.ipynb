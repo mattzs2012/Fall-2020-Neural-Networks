{
 "cells": [
  {
   "cell_type": "markdown",
   "metadata": {},
   "source": [
    "# Autoencoders\n",
    "\n",
    "To part with our focus on supervised learning over the course, we will discuss a type of neural networks called autoencoders that are used for unsupervised learning--that is, learning about unlabeled data.\n",
    "\n",
    "The idea of an autoencoder is quite simple and is immediately intuitive from our past studies. An autoencoder is a neural network that aims to map \"encode\" input datapoints to a lower-dimensional space and then \"decode\" them to reconstruct the original datapoints. The encoding and decoding methods will actually be learned by the net as it tries to map the inputs to themselves.\n",
    "\n",
    "This means the architecture of an autoencoder should have a bottle-neck pattern since the input and output layers must be the same shape, but the net needs to reduce the dimension during training."
   ]
  },
  {
   "cell_type": "markdown",
   "metadata": {},
   "source": [
    "## Anomaly Detection with Autoencoders\n",
    "\n",
    "One common use of autoencoders is to detect anomalies in sequence data. This has been used in the past to detect fraudulent financial activity, detecting intrusions into networks, and finding many other outliers different from \"normal\" data. We frequently do not know what exactly these outliers will look like.\n",
    "\n",
    "For example, we may want to detect any substantially unusual activity on a network when attempting to detect intrusions because it's possible an attack has used an unknown approach. Since we cannot really even define what we are seeking in terms of data in network logs, it seems unlikely we could create good labeled datasets that would be representative of future intrusions. Without a labeled dataset, we cannot really use neural nets in the way we have in the past!\n",
    "\n",
    "**Much of the code below comes from an [example](https://keras.io/examples/timeseries/timeseries_anomaly_detection/) in the Keras documentation.**\n",
    "\n",
    "### Timeseries Anomaly Detection\n",
    "\n",
    "Let's try to detect some anomalies in a time series. First, we import some packages."
   ]
  },
  {
   "cell_type": "code",
   "execution_count": 18,
   "metadata": {},
   "outputs": [],
   "source": [
    "import numpy as np\n",
    "import pandas as pd\n",
    "from tensorflow.keras.layers import Conv1D\n",
    "from tensorflow.keras.layers import Conv1DTranspose\n",
    "from tensorflow.keras.layers import Dense\n",
    "from tensorflow.keras.layers import Dropout\n",
    "from tensorflow.keras.layers import Input\n",
    "from tensorflow.keras.models import Sequential\n",
    "from matplotlib import pyplot as plt"
   ]
  },
  {
   "cell_type": "markdown",
   "metadata": {},
   "source": [
    "We will use the [Numenta Anomaly Benchmark (NAB)](https://www.kaggle.com/boltzmannbrain/nab) dataset. It contains lots of real-world and artificial timeseries data files. Most of the data comes from sources such as AWS server metrics, Twitter volume, advertisement clicking metrics, and traffic data.\n",
    "\n",
    "Let's start with a very simple part of the data"
   ]
  },
  {
   "cell_type": "code",
   "execution_count": 14,
   "metadata": {},
   "outputs": [],
   "source": [
    "# beginning of the url to data\n",
    "small_noise = 'https://raw.githubusercontent.com/numenta/NAB/master/data/artificialNoAnomaly/art_daily_small_noise.csv'\n",
    "\n",
    "# read the data into a datafarme\n",
    "df_small_noise = pd.read_csv(small_noise, parse_dates = True, index_col = \"timestamp\")\n",
    "\n",
    "daily_jumpsup = 'https://raw.githubusercontent.com/numenta/NAB/master/data/artificialWithAnomaly/art_daily_jumpsup.csv'\n",
    "df_daily_jumpsup = pd.read_csv(daily_jumpsup, parse_dates = True, index_col = \"timestamp\")"
   ]
  },
  {
   "cell_type": "markdown",
   "metadata": {},
   "source": [
    "Let's take a look at the data."
   ]
  },
  {
   "cell_type": "code",
   "execution_count": 5,
   "metadata": {},
   "outputs": [
    {
     "data": {
      "text/html": [
       "<div>\n",
       "<style scoped>\n",
       "    .dataframe tbody tr th:only-of-type {\n",
       "        vertical-align: middle;\n",
       "    }\n",
       "\n",
       "    .dataframe tbody tr th {\n",
       "        vertical-align: top;\n",
       "    }\n",
       "\n",
       "    .dataframe thead th {\n",
       "        text-align: right;\n",
       "    }\n",
       "</style>\n",
       "<table border=\"1\" class=\"dataframe\">\n",
       "  <thead>\n",
       "    <tr style=\"text-align: right;\">\n",
       "      <th></th>\n",
       "      <th>value</th>\n",
       "    </tr>\n",
       "    <tr>\n",
       "      <th>timestamp</th>\n",
       "      <th></th>\n",
       "    </tr>\n",
       "  </thead>\n",
       "  <tbody>\n",
       "    <tr>\n",
       "      <th>2014-04-01 00:00:00</th>\n",
       "      <td>18.324919</td>\n",
       "    </tr>\n",
       "    <tr>\n",
       "      <th>2014-04-01 00:05:00</th>\n",
       "      <td>21.970327</td>\n",
       "    </tr>\n",
       "    <tr>\n",
       "      <th>2014-04-01 00:10:00</th>\n",
       "      <td>18.624806</td>\n",
       "    </tr>\n",
       "    <tr>\n",
       "      <th>2014-04-01 00:15:00</th>\n",
       "      <td>21.953684</td>\n",
       "    </tr>\n",
       "    <tr>\n",
       "      <th>2014-04-01 00:20:00</th>\n",
       "      <td>21.909120</td>\n",
       "    </tr>\n",
       "    <tr>\n",
       "      <th>...</th>\n",
       "      <td>...</td>\n",
       "    </tr>\n",
       "    <tr>\n",
       "      <th>2014-04-14 23:35:00</th>\n",
       "      <td>20.211195</td>\n",
       "    </tr>\n",
       "    <tr>\n",
       "      <th>2014-04-14 23:40:00</th>\n",
       "      <td>20.531041</td>\n",
       "    </tr>\n",
       "    <tr>\n",
       "      <th>2014-04-14 23:45:00</th>\n",
       "      <td>19.032127</td>\n",
       "    </tr>\n",
       "    <tr>\n",
       "      <th>2014-04-14 23:50:00</th>\n",
       "      <td>21.798801</td>\n",
       "    </tr>\n",
       "    <tr>\n",
       "      <th>2014-04-14 23:55:00</th>\n",
       "      <td>18.682620</td>\n",
       "    </tr>\n",
       "  </tbody>\n",
       "</table>\n",
       "<p>4032 rows × 1 columns</p>\n",
       "</div>"
      ],
      "text/plain": [
       "                         value\n",
       "timestamp                     \n",
       "2014-04-01 00:00:00  18.324919\n",
       "2014-04-01 00:05:00  21.970327\n",
       "2014-04-01 00:10:00  18.624806\n",
       "2014-04-01 00:15:00  21.953684\n",
       "2014-04-01 00:20:00  21.909120\n",
       "...                        ...\n",
       "2014-04-14 23:35:00  20.211195\n",
       "2014-04-14 23:40:00  20.531041\n",
       "2014-04-14 23:45:00  19.032127\n",
       "2014-04-14 23:50:00  21.798801\n",
       "2014-04-14 23:55:00  18.682620\n",
       "\n",
       "[4032 rows x 1 columns]"
      ]
     },
     "execution_count": 5,
     "metadata": {},
     "output_type": "execute_result"
    }
   ],
   "source": [
    "df_small_noise"
   ]
  },
  {
   "cell_type": "code",
   "execution_count": 6,
   "metadata": {},
   "outputs": [
    {
     "data": {
      "text/html": [
       "<div>\n",
       "<style scoped>\n",
       "    .dataframe tbody tr th:only-of-type {\n",
       "        vertical-align: middle;\n",
       "    }\n",
       "\n",
       "    .dataframe tbody tr th {\n",
       "        vertical-align: top;\n",
       "    }\n",
       "\n",
       "    .dataframe thead th {\n",
       "        text-align: right;\n",
       "    }\n",
       "</style>\n",
       "<table border=\"1\" class=\"dataframe\">\n",
       "  <thead>\n",
       "    <tr style=\"text-align: right;\">\n",
       "      <th></th>\n",
       "      <th>value</th>\n",
       "    </tr>\n",
       "    <tr>\n",
       "      <th>timestamp</th>\n",
       "      <th></th>\n",
       "    </tr>\n",
       "  </thead>\n",
       "  <tbody>\n",
       "    <tr>\n",
       "      <th>2014-04-01 00:00:00</th>\n",
       "      <td>19.761252</td>\n",
       "    </tr>\n",
       "    <tr>\n",
       "      <th>2014-04-01 00:05:00</th>\n",
       "      <td>20.500833</td>\n",
       "    </tr>\n",
       "    <tr>\n",
       "      <th>2014-04-01 00:10:00</th>\n",
       "      <td>19.961641</td>\n",
       "    </tr>\n",
       "    <tr>\n",
       "      <th>2014-04-01 00:15:00</th>\n",
       "      <td>21.490266</td>\n",
       "    </tr>\n",
       "    <tr>\n",
       "      <th>2014-04-01 00:20:00</th>\n",
       "      <td>20.187739</td>\n",
       "    </tr>\n",
       "    <tr>\n",
       "      <th>...</th>\n",
       "      <td>...</td>\n",
       "    </tr>\n",
       "    <tr>\n",
       "      <th>2014-04-14 23:35:00</th>\n",
       "      <td>18.074649</td>\n",
       "    </tr>\n",
       "    <tr>\n",
       "      <th>2014-04-14 23:40:00</th>\n",
       "      <td>21.002014</td>\n",
       "    </tr>\n",
       "    <tr>\n",
       "      <th>2014-04-14 23:45:00</th>\n",
       "      <td>20.566713</td>\n",
       "    </tr>\n",
       "    <tr>\n",
       "      <th>2014-04-14 23:50:00</th>\n",
       "      <td>18.254193</td>\n",
       "    </tr>\n",
       "    <tr>\n",
       "      <th>2014-04-14 23:55:00</th>\n",
       "      <td>21.863147</td>\n",
       "    </tr>\n",
       "  </tbody>\n",
       "</table>\n",
       "<p>4032 rows × 1 columns</p>\n",
       "</div>"
      ],
      "text/plain": [
       "                         value\n",
       "timestamp                     \n",
       "2014-04-01 00:00:00  19.761252\n",
       "2014-04-01 00:05:00  20.500833\n",
       "2014-04-01 00:10:00  19.961641\n",
       "2014-04-01 00:15:00  21.490266\n",
       "2014-04-01 00:20:00  20.187739\n",
       "...                        ...\n",
       "2014-04-14 23:35:00  18.074649\n",
       "2014-04-14 23:40:00  21.002014\n",
       "2014-04-14 23:45:00  20.566713\n",
       "2014-04-14 23:50:00  18.254193\n",
       "2014-04-14 23:55:00  21.863147\n",
       "\n",
       "[4032 rows x 1 columns]"
      ]
     },
     "execution_count": 6,
     "metadata": {},
     "output_type": "execute_result"
    }
   ],
   "source": [
    "df_daily_jumpsup"
   ]
  },
  {
   "cell_type": "markdown",
   "metadata": {},
   "source": [
    "So, we see both dataframes have timestamped values of some single-variable numerical feature with the same timestamps every 5 minutes from April 1, 2014 at 12:00 AM to April 14, 2014 at 11:55 PM.\n",
    "\n",
    "The first dataset does not have anomalies but is rather pretty predictable, as we can see from a plot. We will use this data as a training set because it can train our net what \"normal\" data looks like."
   ]
  },
  {
   "cell_type": "code",
   "execution_count": 12,
   "metadata": {},
   "outputs": [
    {
     "data": {
      "image/png": "[encoded data removed]",
      "text/plain": [
       "<Figure size 432x288 with 1 Axes>"
      ]
     },
     "metadata": {
      "needs_background": "light"
     },
     "output_type": "display_data"
    }
   ],
   "source": [
    "fig, ax = plt.subplots()\n",
    "df_small_noise.plot(legend = False, ax = ax)\n",
    "plt.show()"
   ]
  },
  {
   "cell_type": "markdown",
   "metadata": {},
   "source": [
    "The second dataset will be used as a test set becaue it has some some anomalous data on April 11 that we will try to detect."
   ]
  },
  {
   "cell_type": "code",
   "execution_count": 13,
   "metadata": {},
   "outputs": [
    {
     "data": {
      "image/png": "[encoded data removed]",
      "text/plain": [
       "<Figure size 432x288 with 1 Axes>"
      ]
     },
     "metadata": {
      "needs_background": "light"
     },
     "output_type": "display_data"
    }
   ],
   "source": [
    "fig, ax = plt.subplots()\n",
    "df_daily_jumpsup.plot(legend = False, ax = ax)\n",
    "plt.show()"
   ]
  },
  {
   "cell_type": "markdown",
   "metadata": {},
   "source": [
    "### Preparing the Training Data\n",
    "\n",
    "Let's normalize the training data"
   ]
  },
  {
   "cell_type": "code",
   "execution_count": 31,
   "metadata": {},
   "outputs": [],
   "source": [
    "# standardize and save the mean and standard deviation\n",
    "training_mean = df_small_noise.mean()\n",
    "training_std = df_small_noise.std()\n",
    "df_training_value = (df_small_noise - training_mean) / training_std\n",
    "\n",
    "# standardize the test data assuming it is not anomalous\n",
    "df_test_value = (df_daily_jumpsup - training_mean) / training_std"
   ]
  },
  {
   "cell_type": "markdown",
   "metadata": {},
   "source": [
    "Next, we will break the training data into sets of all the contiguous one-day sequences of data values. That is, we will have\n",
    "\n",
    "* April 1 at 12:00 AM to April 1 at 11:55 PM\n",
    "* April 1 at 12:05 AM to April 2 at 12:00 AM\n",
    "* April 1 at 12:10 AM to April 2 at 12:05 AM\n",
    "\n",
    "$\\quad\\quad\\vdots$\n",
    "\n",
    "* April 14 at 12:00 AM to April 14 at 11:55 PM\n",
    "\n",
    "There are 4032 data values corresponding to each 5-minute interval over 14 days, so there will be 4032 / 14 = 288 data values per day."
   ]
  },
  {
   "cell_type": "code",
   "execution_count": 32,
   "metadata": {},
   "outputs": [
    {
     "name": "stdout",
     "output_type": "stream",
     "text": [
      "Training input shape:  (3744, 288, 1)\n",
      "Testing input shape:  (3744, 288, 1)\n"
     ]
    }
   ],
   "source": [
    "timeSteps = 288\n",
    "\n",
    "# function for breaking the data values into all possible contiguous one-day sequences\n",
    "def create_sequences(values, timeSteps = timeSteps):\n",
    "    output = []\n",
    "    for i in range(len(values) - timeSteps):\n",
    "        output.append(values[i : (i + timeSteps)])\n",
    "        \n",
    "    return np.stack(output)\n",
    "\n",
    "# create the training and testing data\n",
    "trainX = create_sequences(df_training_value.values)\n",
    "testX = create_sequences(df_test_value.values)\n",
    "\n",
    "# print the shape\n",
    "print(\"Training input shape: \", trainX.shape)\n",
    "print(\"Testing input shape: \", testX.shape)"
   ]
  },
  {
   "cell_type": "markdown",
   "metadata": {},
   "source": [
    "So, we have 3744 sequences, each of length 288, in each dataset.\n",
    "\n",
    "### Building an Autoencoder"
   ]
  },
  {
   "cell_type": "code",
   "execution_count": 24,
   "metadata": {},
   "outputs": [
    {
     "name": "stdout",
     "output_type": "stream",
     "text": [
      "Model: \"sequential_2\"\n",
      "_________________________________________________________________\n",
      "Layer (type)                 Output Shape              Param #   \n",
      "=================================================================\n",
      "conv1d_2 (Conv1D)            (None, 144, 32)           256       \n",
      "_________________________________________________________________\n",
      "dropout_2 (Dropout)          (None, 144, 32)           0         \n",
      "_________________________________________________________________\n",
      "conv1d_3 (Conv1D)            (None, 72, 16)            3600      \n",
      "_________________________________________________________________\n",
      "conv1d_transpose_3 (Conv1DTr (None, 144, 16)           1808      \n",
      "_________________________________________________________________\n",
      "dropout_3 (Dropout)          (None, 144, 16)           0         \n",
      "_________________________________________________________________\n",
      "conv1d_transpose_4 (Conv1DTr (None, 288, 32)           3616      \n",
      "_________________________________________________________________\n",
      "conv1d_transpose_5 (Conv1DTr (None, 288, 1)            225       \n",
      "=================================================================\n",
      "Total params: 9,505\n",
      "Trainable params: 9,505\n",
      "Non-trainable params: 0\n",
      "_________________________________________________________________\n"
     ]
    }
   ],
   "source": [
    "model = Sequential()\n",
    "\n",
    "model.add(Input(shape = (trainX.shape[1], trainX.shape[2])))\n",
    "model.add(Conv1D(32, 7, padding = 'same', strides = 2, activation = 'relu'))\n",
    "model.add(Dropout(0.2))\n",
    "\n",
    "model.add(Conv1D(16, 7, padding = 'same', strides = 2, activation = 'relu'))\n",
    "model.add(Conv1DTranspose(16, 7, padding = 'same', strides = 2, activation = 'relu'))\n",
    "model.add(Dropout(0.2))\n",
    "\n",
    "model.add(Conv1DTranspose(32, 7, padding = 'same', strides = 2, activation = 'relu'))\n",
    "model.add(Conv1DTranspose(1, 7, padding = 'same'))\n",
    "\n",
    "model.compile(optimizer = 'adam', loss = 'mse')\n",
    "model.summary()"
   ]
  },
  {
   "cell_type": "markdown",
   "metadata": {},
   "source": [
    "Note that the net has a bottleneck structure where center of the net is narrow while the input and output are wider and the same shape."
   ]
  },
  {
   "cell_type": "markdown",
   "metadata": {},
   "source": [
    "### Training the Autoencoder\n",
    "\n",
    "An autoencoder trains the net to map the training data to *themselves*."
   ]
  },
  {
   "cell_type": "code",
   "execution_count": 5,
   "metadata": {},
   "outputs": [
    {
     "ename": "NameError",
     "evalue": "name 'model' is not defined",
     "output_type": "error",
     "traceback": [
      "\u001b[1;31m---------------------------------------------------------------------------\u001b[0m",
      "\u001b[1;31mNameError\u001b[0m                                 Traceback (most recent call last)",
      "\u001b[1;32m<ipython-input-5-d8903b88be21>\u001b[0m in \u001b[0;36m<module>\u001b[1;34m\u001b[0m\n\u001b[1;32m----> 1\u001b[1;33m \u001b[0mhistory\u001b[0m \u001b[1;33m=\u001b[0m \u001b[0mmodel\u001b[0m\u001b[1;33m.\u001b[0m\u001b[0mfit\u001b[0m\u001b[1;33m(\u001b[0m\u001b[0mtrainX\u001b[0m\u001b[1;33m,\u001b[0m \u001b[0mtrainX\u001b[0m\u001b[1;33m,\u001b[0m \u001b[0mepochs\u001b[0m \u001b[1;33m=\u001b[0m \u001b[1;36m50\u001b[0m\u001b[1;33m,\u001b[0m \u001b[0mbatch_size\u001b[0m \u001b[1;33m=\u001b[0m \u001b[1;36m128\u001b[0m\u001b[1;33m,\u001b[0m \u001b[0mvalidation_split\u001b[0m \u001b[1;33m=\u001b[0m \u001b[1;36m0.1\u001b[0m\u001b[1;33m)\u001b[0m\u001b[1;33m\u001b[0m\u001b[1;33m\u001b[0m\u001b[0m\n\u001b[0m",
      "\u001b[1;31mNameError\u001b[0m: name 'model' is not defined"
     ]
    }
   ],
   "source": [
    "history = model.fit(trainX, trainX, epochs = 50, batch_size = 128, validation_split = 0.1)"
   ]
  },
  {
   "cell_type": "markdown",
   "metadata": {},
   "source": [
    "Let's plot the losses."
   ]
  },
  {
   "cell_type": "code",
   "execution_count": 26,
   "metadata": {},
   "outputs": [
    {
     "data": {
      "image/png": "[encoded data removed]",
      "text/plain": [
       "<Figure size 432x288 with 1 Axes>"
      ]
     },
     "metadata": {
      "needs_background": "light"
     },
     "output_type": "display_data"
    }
   ],
   "source": [
    "plt.plot(history.history[\"loss\"], label=\"Training Loss\")\n",
    "plt.plot(history.history[\"val_loss\"], label=\"Validation Loss\")\n",
    "plt.legend()\n",
    "plt.show()"
   ]
  },
  {
   "cell_type": "markdown",
   "metadata": {},
   "source": [
    "### Detecting Anomalies\n",
    "\n",
    "We will use the autoencoder to reconstruct the training data and find the largest mean absolute error (MAE) loss. We will assume that, if we have a loss greater than this when attempting to reconstruct a test example, we will classify this example as being an anomaly.\n",
    "\n",
    "Let's compute the MAE and find this max MAE first, which we will call the threshold."
   ]
  },
  {
   "cell_type": "code",
   "execution_count": 27,
   "metadata": {},
   "outputs": [
    {
     "data": {
      "image/png": "[encoded data removed]",
      "text/plain": [
       "<Figure size 432x288 with 1 Axes>"
      ]
     },
     "metadata": {
      "needs_background": "light"
     },
     "output_type": "display_data"
    },
    {
     "name": "stdout",
     "output_type": "stream",
     "text": [
      "Reconstruction error threshold:  0.08285440857477405\n"
     ]
    }
   ],
   "source": [
    "# get train MAE loss.\n",
    "trainXpredicted = model.predict(trainX)\n",
    "trainMaeLoss = np.mean(np.abs(trainXpredicted - trainX), axis=1)\n",
    "\n",
    "plt.hist(trainMaeLoss, bins=50)\n",
    "plt.xlabel('Train MAE loss')\n",
    "plt.ylabel('Number of samples')\n",
    "plt.show()\n",
    "\n",
    "# get reconstruction loss threshold.\n",
    "threshold = np.max(trainMaeLoss)\n",
    "print(\"Reconstruction error threshold: \", threshold)"
   ]
  },
  {
   "cell_type": "markdown",
   "metadata": {},
   "source": [
    "Let's see how the net reconstructed one training example."
   ]
  },
  {
   "cell_type": "code",
   "execution_count": 30,
   "metadata": {},
   "outputs": [
    {
     "data": {
      "image/png": "[encoded data removed]",
      "text/plain": [
       "<Figure size 432x288 with 1 Axes>"
      ]
     },
     "metadata": {
      "needs_background": "light"
     },
     "output_type": "display_data"
    }
   ],
   "source": [
    "# Checking how the first sequence is learnt\n",
    "plt.plot(trainX[0])\n",
    "plt.plot(trainXpredicted[0])\n",
    "plt.show()"
   ]
  },
  {
   "cell_type": "markdown",
   "metadata": {},
   "source": [
    "The autoencoder captured the general idea of the original blue training datapoint, but it created a smoother orange prediction. This is called **denoising** the data, which is frequently a goal in understanding data that may be captured with some randomness involved.\n",
    "\n",
    "Next, let's compute the loss for each testing datapoint, plot them, and detect the anomalies in the testing data."
   ]
  },
  {
   "cell_type": "markdown",
   "metadata": {},
   "source": []
  },
  {
   "cell_type": "code",
   "execution_count": 56,
   "metadata": {},
   "outputs": [
    {
     "data": {
      "image/png": "[encoded data removed]",
      "text/plain": [
       "<Figure size 432x288 with 1 Axes>"
      ]
     },
     "metadata": {
      "needs_background": "light"
     },
     "output_type": "display_data"
    },
    {
     "name": "stdout",
     "output_type": "stream",
     "text": [
      "Number of anomaly samples:  398\n"
     ]
    }
   ],
   "source": [
    "# get test MAE loss.\n",
    "testXpredicted = model.predict(testX)\n",
    "testMaeLoss = np.mean(np.abs(testXpredicted - testX), axis=1)\n",
    "\n",
    "plt.hist(testMaeLoss, bins=50)\n",
    "plt.xlabel(\"test MAE loss\")\n",
    "plt.ylabel(\"No of samples\")\n",
    "plt.show()\n",
    "\n",
    "# detect all the samples which are anomalies.\n",
    "anomalies = testMaeLoss > threshold\n",
    "print(\"Number of anomaly samples: \", np.sum(anomalies))\n",
    "\n",
    "anomalousDataIndices = np.where(anomalies)[0]"
   ]
  },
  {
   "cell_type": "markdown",
   "metadata": {},
   "source": [
    "Next, let's find which timestamps have anomalous data (i.e. if all the sequences containing the timestamp's value are above the threhold) and overlay the plot of these withthe original data."
   ]
  },
  {
   "cell_type": "code",
   "execution_count": 58,
   "metadata": {},
   "outputs": [
    {
     "data": {
      "image/png": "[encoded data removed]",
      "text/plain": [
       "<Figure size 432x288 with 1 Axes>"
      ]
     },
     "metadata": {
      "needs_background": "light"
     },
     "output_type": "display_data"
    }
   ],
   "source": [
    "# find the indices of the anomalous data\n",
    "anomalousDataIndices = []\n",
    "\n",
    "for index in range(timeSteps - 1, len(df_test_value) - timeSteps + 1):\n",
    "    if np.all(anomalies[index - timeSteps + 1 : index]):\n",
    "        anomalousDataIndices.append(index)\n",
    "        \n",
    "df_subset = df_daily_jumpsup.iloc[anomalousDataIndices]\n",
    "fig, ax = plt.subplots()\n",
    "df_daily_jumpsup.plot(legend=False, ax=ax)\n",
    "df_subset.plot(legend=False, ax=ax, color=\"r\")\n",
    "plt.show()"
   ]
  },
  {
   "cell_type": "markdown",
   "metadata": {},
   "source": [
    "Clearly, we have properly identified the outlier!"
   ]
  },
  {
   "cell_type": "markdown",
   "metadata": {},
   "source": [
    "## Denoising Data with Autoencoders\n",
    "\n",
    "Autoencoders are also good at denoising data, which means to capture the important parts of a datapoint without being guided too much by random fluctuations in the data. For example, this can be helpful to see through blurry images or video feeds with static, to understand voice commands with environmental noise, and the like.\n",
    "\n",
    "**The code below is modified from this [blog post](https://www.pyimagesearch.com/2020/02/24/denoising-autoencoders-with-keras-tensorflow-and-deep-learning/) by Adrian Rosebrock.**"
   ]
  },
  {
   "cell_type": "code",
   "execution_count": 1,
   "metadata": {},
   "outputs": [],
   "source": [
    "# set the matplotlib backend so figures can be saved in the background\n",
    "import matplotlib\n",
    "matplotlib.use(\"Agg\")\n",
    "\n",
    "# import the necessary packages\n",
    "import cv2\n",
    "import matplotlib.pyplot as plt\n",
    "import numpy as np\n",
    "\n",
    "from tensorflow.keras.datasets import mnist\n",
    "from tensorflow.keras.layers import BatchNormalization\n",
    "from tensorflow.keras.layers import Conv2D\n",
    "from tensorflow.keras.layers import Conv2DTranspose\n",
    "from tensorflow.keras.layers import LeakyReLU\n",
    "from tensorflow.keras.layers import Activation\n",
    "from tensorflow.keras.layers import Flatten\n",
    "from tensorflow.keras.layers import Dense\n",
    "from tensorflow.keras.layers import Reshape\n",
    "from tensorflow.keras.layers import Input\n",
    "from tensorflow.keras.models import Model\n",
    "from tensorflow.keras.optimizers import Adam\n",
    "import tensorflow.keras.backend as Backend\n",
    "import numpy as np\n",
    "\n",
    "class ConvAutoencoder:\n",
    "    def build(width, height, depth, filters = (32, 64), latentDim = 16):\n",
    "        inputShape = (height, width, depth)\n",
    "\n",
    "        # define the input to the encoder\n",
    "        inputs = Input(shape = inputShape)\n",
    "        x = inputs\n",
    "        \n",
    "        # loop over the number of filters\n",
    "        for f in filters:\n",
    "            # apply a CONV => RELU => BN operation\n",
    "            x = Conv2D(f, (3, 3), strides = 2, padding = 'same')(x)\n",
    "            x = LeakyReLU(alpha = 0.2)(x)\n",
    "            x = BatchNormalization(axis = -1)(x)\n",
    "            \n",
    "        # flatten the network and then construct our latent vector\n",
    "        volumeSize = Backend.int_shape(x)\n",
    "        x = Flatten()(x)\n",
    "        latent = Dense(latentDim)(x)\n",
    "        \n",
    "        # build the encoder model\n",
    "        encoder = Model(inputs, latent, name = 'encoder')\n",
    "        \n",
    "        # start building the decoder model which will accept the output of the encoder as its inputs\n",
    "        latentInputs = Input(shape = (latentDim,))\n",
    "        x = Dense(np.prod(volumeSize[1:]))(latentInputs)\n",
    "        x = Reshape((volumeSize[1], volumeSize[2], volumeSize[3]))(x)\n",
    "\n",
    "        # loop over our number of filters again, but this time in reverse order\n",
    "        for f in filters[::-1]:\n",
    "            # apply a CONV_TRANSPOSE => RELU => BN operation\n",
    "            x = Conv2DTranspose(f, (3, 3), strides = 2, padding = 'same')(x)\n",
    "            x = LeakyReLU(alpha = 0.2)(x)\n",
    "            x = BatchNormalization(axis = -1)(x)\n",
    "            \n",
    "        # apply a single CONV_TRANSPOSE layer used to recover the original depth of the image\n",
    "        x = Conv2DTranspose(depth, (3, 3), padding = 'same')(x)\n",
    "        outputs = Activation('sigmoid')(x)\n",
    "\n",
    "        # build the decoder model\n",
    "        decoder = Model(latentInputs, outputs, name = 'decoder')\n",
    "\n",
    "        # our autoencoder is the encoder + decoder\n",
    "        autoencoder = Model(inputs, decoder(encoder(inputs)), name = 'autoencoder')\n",
    "        \n",
    "        # return a 3-tuple of the encoder, decoder, and autoencoder\n",
    "        return (encoder, decoder, autoencoder)"
   ]
  },
  {
   "cell_type": "markdown",
   "metadata": {},
   "source": [
    "Load MNIST and add noise to it."
   ]
  },
  {
   "cell_type": "code",
   "execution_count": 2,
   "metadata": {},
   "outputs": [
    {
     "name": "stdout",
     "output_type": "stream",
     "text": [
      "Loading MNIST dataset...\n"
     ]
    }
   ],
   "source": [
    "# load the MNIST dataset\n",
    "print('Loading MNIST dataset...')\n",
    "((trainX, _), (testX, _)) = mnist.load_data()\n",
    "\n",
    "# add a channel dimension to every image in the dataset, then scale the pixel intensities to the range [0, 1]\n",
    "trainX = np.expand_dims(trainX, axis = -1)\n",
    "testX = np.expand_dims(testX, axis = -1)\n",
    "trainX = trainX.astype('float32') / 255.0\n",
    "testX = testX.astype('float32') / 255.0\n",
    "\n",
    "# add Gaussian noise to the datasets\n",
    "trainNoise = np.random.normal(loc = 0.5, scale = 0.5, size = trainX.shape)\n",
    "testNoise = np.random.normal(loc = 0.5, scale = 0.5, size = testX.shape)\n",
    "trainXNoisy = np.clip(trainX + trainNoise, 0, 1)\n",
    "testXNoisy = np.clip(testX + testNoise, 0, 1)"
   ]
  },
  {
   "cell_type": "markdown",
   "metadata": {},
   "source": [
    "Let's build the autoencoder and let it learn an encoding and decoding for the noisy MNIST data."
   ]
  },
  {
   "cell_type": "code",
   "execution_count": 4,
   "metadata": {},
   "outputs": [
    {
     "name": "stdout",
     "output_type": "stream",
     "text": [
      "Building autoencoder...\n",
      "Epoch 1/25\n",
      "1875/1875 [==============================] - 101s 53ms/step - loss: 0.0473 - val_loss: 0.0216\n",
      "Epoch 2/25\n",
      "1875/1875 [==============================] - 107s 57ms/step - loss: 0.0193 - val_loss: 0.0179\n",
      "Epoch 3/25\n",
      "1875/1875 [==============================] - 100s 54ms/step - loss: 0.0180 - val_loss: 0.0174\n",
      "Epoch 4/25\n",
      "1875/1875 [==============================] - 100s 53ms/step - loss: 0.0172 - val_loss: 0.0182\n",
      "Epoch 5/25\n",
      "1875/1875 [==============================] - 99s 53ms/step - loss: 0.0168 - val_loss: 0.0175\n",
      "Epoch 6/25\n",
      "1875/1875 [==============================] - 99s 53ms/step - loss: 0.0165 - val_loss: 0.0171\n",
      "Epoch 7/25\n",
      "1875/1875 [==============================] - 100s 53ms/step - loss: 0.0163 - val_loss: 0.0182\n",
      "Epoch 8/25\n",
      "1875/1875 [==============================] - 106s 56ms/step - loss: 0.0160 - val_loss: 0.0163\n",
      "Epoch 9/25\n",
      "1875/1875 [==============================] - 114s 61ms/step - loss: 0.0158 - val_loss: 0.0181\n",
      "Epoch 10/25\n",
      "1875/1875 [==============================] - 115s 61ms/step - loss: 0.0156 - val_loss: 0.0171\n",
      "Epoch 11/25\n",
      "1875/1875 [==============================] - 105s 56ms/step - loss: 0.0156 - val_loss: 0.0158\n",
      "Epoch 12/25\n",
      "1875/1875 [==============================] - 102s 54ms/step - loss: 0.0154 - val_loss: 0.0159\n",
      "Epoch 13/25\n",
      "1875/1875 [==============================] - 103s 55ms/step - loss: 0.0153 - val_loss: 0.0157\n",
      "Epoch 14/25\n",
      "1875/1875 [==============================] - 103s 55ms/step - loss: 0.0152 - val_loss: 0.0157\n",
      "Epoch 15/25\n",
      "1875/1875 [==============================] - 100s 53ms/step - loss: 0.0151 - val_loss: 0.0162\n",
      "Epoch 16/25\n",
      "1875/1875 [==============================] - 100s 53ms/step - loss: 0.0150 - val_loss: 0.0162\n",
      "Epoch 17/25\n",
      "1875/1875 [==============================] - 100s 53ms/step - loss: 0.0149 - val_loss: 0.0161\n",
      "Epoch 18/25\n",
      "1875/1875 [==============================] - 100s 53ms/step - loss: 0.0149 - val_loss: 0.0158\n",
      "Epoch 19/25\n",
      "1875/1875 [==============================] - 104s 55ms/step - loss: 0.0148 - val_loss: 0.0157\n",
      "Epoch 20/25\n",
      "1875/1875 [==============================] - 102s 54ms/step - loss: 0.0148 - val_loss: 0.0159\n",
      "Epoch 21/25\n",
      "1875/1875 [==============================] - 101s 54ms/step - loss: 0.0146 - val_loss: 0.0155\n",
      "Epoch 22/25\n",
      "1875/1875 [==============================] - 103s 55ms/step - loss: 0.0146 - val_loss: 0.0155\n",
      "Epoch 23/25\n",
      "1875/1875 [==============================] - 100s 54ms/step - loss: 0.0145 - val_loss: 0.0168\n",
      "Epoch 24/25\n",
      "1875/1875 [==============================] - 100s 53ms/step - loss: 0.0144 - val_loss: 0.0161\n",
      "Epoch 25/25\n",
      "1875/1875 [==============================] - 100s 53ms/step - loss: 0.0144 - val_loss: 0.0155\n"
     ]
    },
    {
     "data": {
      "text/plain": [
       "<matplotlib.legend.Legend at 0x25db3c27f88>"
      ]
     },
     "execution_count": 4,
     "metadata": {},
     "output_type": "execute_result"
    }
   ],
   "source": [
    "# construct our convolutional autoencoder\n",
    "print('Building autoencoder...')\n",
    "(encoder, decoder, autoencoder) = ConvAutoencoder.build(28, 28, 1)\n",
    "autoencoder.compile(loss= 'mse', optimizer = 'adam')\n",
    "\n",
    "# train the autoencoder\n",
    "epochs = 25\n",
    "H = autoencoder.fit(trainXNoisy, trainX, validation_data = (testXNoisy, testX), epochs = epochs, batch_size = 32)\n",
    "\n",
    "# construct a plot that plots the training history\n",
    "N = np.arange(0, epochs)\n",
    "plt.style.use('ggplot')\n",
    "plt.figure()\n",
    "plt.plot(N, H.history[\"loss\"], label = \"train_loss\")\n",
    "plt.plot(N, H.history[\"val_loss\"], label = \"val_loss\")\n",
    "plt.title('Training Loss and Accuracy')\n",
    "plt.xlabel('Epoch #')\n",
    "plt.ylabel('Loss/Accuracy')\n",
    "plt.legend(loc = 'lower left')"
   ]
  },
  {
   "cell_type": "markdown",
   "metadata": {},
   "source": [
    "### Visualizing the results"
   ]
  },
  {
   "cell_type": "code",
   "execution_count": 6,
   "metadata": {},
   "outputs": [
    {
     "name": "stdout",
     "output_type": "stream",
     "text": [
      "Making predictions...\n"
     ]
    },
    {
     "data": {
      "text/plain": [
       "True"
      ]
     },
     "execution_count": 6,
     "metadata": {},
     "output_type": "execute_result"
    }
   ],
   "source": [
    "# use the autoencoder to make predictions on the testing images, then initialize our list of output images\n",
    "print('Making predictions...')\n",
    "decoded = autoencoder.predict(testXNoisy)\n",
    "outputs = None\n",
    "\n",
    "# loop over our number of output samples\n",
    "samples = 8\n",
    "      \n",
    "for i in range(0, samples):\n",
    "    # grab the original image and reconstructed image\n",
    "    original = (testXNoisy[i] * 255).astype('uint8')\n",
    "    recon = (decoded[i] * 255).astype('uint8')\n",
    "      \n",
    "    # stack the original and reconstructed image side-by-side\n",
    "    output = np.hstack([original, recon])\n",
    "\n",
    "    # if the outputs array is empty, initialize it as the current side-by-side image display\n",
    "    if outputs is None:\n",
    "        outputs = output\n",
    "    \n",
    "    # otherwise, vertically stack the outputs\n",
    "    else:\n",
    "        outputs = np.vstack([outputs, output])\n",
    "\n",
    "# save the outputs image to disk\n",
    "cv2.imwrite('output.png', outputs)"
   ]
  },
  {
   "cell_type": "markdown",
   "metadata": {},
   "source": [
    "## Dimensionality Reduction with Autoencoders\n",
    "\n",
    "Another application of autoencoders lies simply in the representation of datapoints in the lower-dimensional at the center of the net, also known as the latent representation of the data.\n",
    "\n",
    "We previously studied principal components analysis (PCA), which is a linear dimensionality reduction method. It turns out, autoencoders with their nonlinear activation functions offer a more flexible and intelligent nonlinear method for the same task.\n",
    "\n",
    "Since we know how to decode the encoded latent representation if we have trained our net, we merely need to run the first half of the autoencoder--the encoder--on a dataset to yield this dimension-reduced dataset."
   ]
  },
  {
   "cell_type": "code",
   "execution_count": null,
   "metadata": {},
   "outputs": [],
   "source": []
  }
 ],
 "metadata": {
  "kernelspec": {
   "display_name": "Python 3.7 (tensorflow)",
   "language": "python",
   "name": "tensorflow"
  },
  "language_info": {
   "codemirror_mode": {
    "name": "ipython",
    "version": 3
   },
   "file_extension": ".py",
   "mimetype": "text/x-python",
   "name": "python",
   "nbconvert_exporter": "python",
   "pygments_lexer": "ipython3",
   "version": "3.7.7"
  }
 },
 "nbformat": 4,
 "nbformat_minor": 4
}
