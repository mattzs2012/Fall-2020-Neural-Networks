{
 "cells": [
  {
   "cell_type": "code",
   "execution_count": 1,
   "metadata": {},
   "outputs": [],
   "source": [
    "import numpy as np\n",
    "import pandas as pd\n",
    "from tensorflow.keras.layers import Conv1D\n",
    "from tensorflow.keras.layers import Conv1DTranspose\n",
    "from tensorflow.keras.layers import Dense\n",
    "from tensorflow.keras.layers import Dropout\n",
    "from tensorflow.keras.layers import Input\n",
    "from tensorflow.keras.models import Sequential\n",
    "from matplotlib import pyplot as plt\n",
    "\n",
    "# beginning of the url to data\n",
    "small_noise = 'https://raw.githubusercontent.com/numenta/NAB/master/data/artificialNoAnomaly/art_daily_small_noise.csv'\n",
    "\n",
    "# read data without anomalies into a datafarme\n",
    "df_small_noise = pd.read_csv(small_noise, parse_dates = True, index_col = \"timestamp\")\n",
    "\n",
    "# read data with anomalies into a dataframe\n",
    "daily_jumpsup = 'https://raw.githubusercontent.com/numenta/NAB/master/data/artificialWithAnomaly/art_daily_jumpsup.csv'\n",
    "df_daily_jumpsup = pd.read_csv(daily_jumpsup, parse_dates = True, index_col = \"timestamp\")"
   ]
  },
  {
   "cell_type": "code",
   "execution_count": 2,
   "metadata": {},
   "outputs": [
    {
     "data": {
      "text/html": [
       "<div>\n",
       "<style scoped>\n",
       "    .dataframe tbody tr th:only-of-type {\n",
       "        vertical-align: middle;\n",
       "    }\n",
       "\n",
       "    .dataframe tbody tr th {\n",
       "        vertical-align: top;\n",
       "    }\n",
       "\n",
       "    .dataframe thead th {\n",
       "        text-align: right;\n",
       "    }\n",
       "</style>\n",
       "<table border=\"1\" class=\"dataframe\">\n",
       "  <thead>\n",
       "    <tr style=\"text-align: right;\">\n",
       "      <th></th>\n",
       "      <th>value</th>\n",
       "    </tr>\n",
       "    <tr>\n",
       "      <th>timestamp</th>\n",
       "      <th></th>\n",
       "    </tr>\n",
       "  </thead>\n",
       "  <tbody>\n",
       "    <tr>\n",
       "      <th>2014-04-01 00:00:00</th>\n",
       "      <td>18.324919</td>\n",
       "    </tr>\n",
       "    <tr>\n",
       "      <th>2014-04-01 00:05:00</th>\n",
       "      <td>21.970327</td>\n",
       "    </tr>\n",
       "    <tr>\n",
       "      <th>2014-04-01 00:10:00</th>\n",
       "      <td>18.624806</td>\n",
       "    </tr>\n",
       "    <tr>\n",
       "      <th>2014-04-01 00:15:00</th>\n",
       "      <td>21.953684</td>\n",
       "    </tr>\n",
       "    <tr>\n",
       "      <th>2014-04-01 00:20:00</th>\n",
       "      <td>21.909120</td>\n",
       "    </tr>\n",
       "    <tr>\n",
       "      <th>...</th>\n",
       "      <td>...</td>\n",
       "    </tr>\n",
       "    <tr>\n",
       "      <th>2014-04-14 23:35:00</th>\n",
       "      <td>20.211195</td>\n",
       "    </tr>\n",
       "    <tr>\n",
       "      <th>2014-04-14 23:40:00</th>\n",
       "      <td>20.531041</td>\n",
       "    </tr>\n",
       "    <tr>\n",
       "      <th>2014-04-14 23:45:00</th>\n",
       "      <td>19.032127</td>\n",
       "    </tr>\n",
       "    <tr>\n",
       "      <th>2014-04-14 23:50:00</th>\n",
       "      <td>21.798801</td>\n",
       "    </tr>\n",
       "    <tr>\n",
       "      <th>2014-04-14 23:55:00</th>\n",
       "      <td>18.682620</td>\n",
       "    </tr>\n",
       "  </tbody>\n",
       "</table>\n",
       "<p>4032 rows × 1 columns</p>\n",
       "</div>"
      ],
      "text/plain": [
       "                         value\n",
       "timestamp                     \n",
       "2014-04-01 00:00:00  18.324919\n",
       "2014-04-01 00:05:00  21.970327\n",
       "2014-04-01 00:10:00  18.624806\n",
       "2014-04-01 00:15:00  21.953684\n",
       "2014-04-01 00:20:00  21.909120\n",
       "...                        ...\n",
       "2014-04-14 23:35:00  20.211195\n",
       "2014-04-14 23:40:00  20.531041\n",
       "2014-04-14 23:45:00  19.032127\n",
       "2014-04-14 23:50:00  21.798801\n",
       "2014-04-14 23:55:00  18.682620\n",
       "\n",
       "[4032 rows x 1 columns]"
      ]
     },
     "execution_count": 2,
     "metadata": {},
     "output_type": "execute_result"
    }
   ],
   "source": [
    "df_small_noise"
   ]
  },
  {
   "cell_type": "code",
   "execution_count": 3,
   "metadata": {},
   "outputs": [
    {
     "data": {
      "text/html": [
       "<div>\n",
       "<style scoped>\n",
       "    .dataframe tbody tr th:only-of-type {\n",
       "        vertical-align: middle;\n",
       "    }\n",
       "\n",
       "    .dataframe tbody tr th {\n",
       "        vertical-align: top;\n",
       "    }\n",
       "\n",
       "    .dataframe thead th {\n",
       "        text-align: right;\n",
       "    }\n",
       "</style>\n",
       "<table border=\"1\" class=\"dataframe\">\n",
       "  <thead>\n",
       "    <tr style=\"text-align: right;\">\n",
       "      <th></th>\n",
       "      <th>value</th>\n",
       "    </tr>\n",
       "    <tr>\n",
       "      <th>timestamp</th>\n",
       "      <th></th>\n",
       "    </tr>\n",
       "  </thead>\n",
       "  <tbody>\n",
       "    <tr>\n",
       "      <th>2014-04-01 00:00:00</th>\n",
       "      <td>19.761252</td>\n",
       "    </tr>\n",
       "    <tr>\n",
       "      <th>2014-04-01 00:05:00</th>\n",
       "      <td>20.500833</td>\n",
       "    </tr>\n",
       "    <tr>\n",
       "      <th>2014-04-01 00:10:00</th>\n",
       "      <td>19.961641</td>\n",
       "    </tr>\n",
       "    <tr>\n",
       "      <th>2014-04-01 00:15:00</th>\n",
       "      <td>21.490266</td>\n",
       "    </tr>\n",
       "    <tr>\n",
       "      <th>2014-04-01 00:20:00</th>\n",
       "      <td>20.187739</td>\n",
       "    </tr>\n",
       "    <tr>\n",
       "      <th>...</th>\n",
       "      <td>...</td>\n",
       "    </tr>\n",
       "    <tr>\n",
       "      <th>2014-04-14 23:35:00</th>\n",
       "      <td>18.074649</td>\n",
       "    </tr>\n",
       "    <tr>\n",
       "      <th>2014-04-14 23:40:00</th>\n",
       "      <td>21.002014</td>\n",
       "    </tr>\n",
       "    <tr>\n",
       "      <th>2014-04-14 23:45:00</th>\n",
       "      <td>20.566713</td>\n",
       "    </tr>\n",
       "    <tr>\n",
       "      <th>2014-04-14 23:50:00</th>\n",
       "      <td>18.254193</td>\n",
       "    </tr>\n",
       "    <tr>\n",
       "      <th>2014-04-14 23:55:00</th>\n",
       "      <td>21.863147</td>\n",
       "    </tr>\n",
       "  </tbody>\n",
       "</table>\n",
       "<p>4032 rows × 1 columns</p>\n",
       "</div>"
      ],
      "text/plain": [
       "                         value\n",
       "timestamp                     \n",
       "2014-04-01 00:00:00  19.761252\n",
       "2014-04-01 00:05:00  20.500833\n",
       "2014-04-01 00:10:00  19.961641\n",
       "2014-04-01 00:15:00  21.490266\n",
       "2014-04-01 00:20:00  20.187739\n",
       "...                        ...\n",
       "2014-04-14 23:35:00  18.074649\n",
       "2014-04-14 23:40:00  21.002014\n",
       "2014-04-14 23:45:00  20.566713\n",
       "2014-04-14 23:50:00  18.254193\n",
       "2014-04-14 23:55:00  21.863147\n",
       "\n",
       "[4032 rows x 1 columns]"
      ]
     },
     "execution_count": 3,
     "metadata": {},
     "output_type": "execute_result"
    }
   ],
   "source": [
    "df_daily_jumpsup"
   ]
  },
  {
   "cell_type": "code",
   "execution_count": 4,
   "metadata": {},
   "outputs": [
    {
     "data": {
      "text/plain": [
       "<matplotlib.axes._subplots.AxesSubplot at 0x1e7f11d54c8>"
      ]
     },
     "execution_count": 4,
     "metadata": {},
     "output_type": "execute_result"
    },
    {
     "data": {
      "image/png": "[encoded data removed]",
      "text/plain": [
       "<Figure size 432x288 with 1 Axes>"
      ]
     },
     "metadata": {
      "needs_background": "light"
     },
     "output_type": "display_data"
    }
   ],
   "source": [
    "df_small_noise.plot()"
   ]
  },
  {
   "cell_type": "code",
   "execution_count": 5,
   "metadata": {},
   "outputs": [
    {
     "data": {
      "text/plain": [
       "<matplotlib.axes._subplots.AxesSubplot at 0x1e7f13670c8>"
      ]
     },
     "execution_count": 5,
     "metadata": {},
     "output_type": "execute_result"
    },
    {
     "data": {
      "image/png": "[encoded data removed]",
      "text/plain": [
       "<Figure size 432x288 with 1 Axes>"
      ]
     },
     "metadata": {
      "needs_background": "light"
     },
     "output_type": "display_data"
    }
   ],
   "source": [
    "df_daily_jumpsup.plot()"
   ]
  },
  {
   "cell_type": "code",
   "execution_count": 7,
   "metadata": {},
   "outputs": [
    {
     "name": "stdout",
     "output_type": "stream",
     "text": [
      "(3744, 288, 1)\n",
      "(3744, 288, 1)\n"
     ]
    }
   ],
   "source": [
    "timeSteps = 288\n",
    "\n",
    "def create_sequences(values, steps = timeSteps):\n",
    "    output = []\n",
    "    for i in range(len(values) - steps):\n",
    "        output.append(values[i : (i + steps)])\n",
    "        \n",
    "    return np.stack(output)\n",
    "\n",
    "trainX = create_sequences(df_small_noise.values)\n",
    "testX = create_sequences(df_daily_jumpsup.values)\n",
    "\n",
    "print(trainX.shape)\n",
    "print(testX.shape)"
   ]
  },
  {
   "cell_type": "code",
   "execution_count": 9,
   "metadata": {},
   "outputs": [
    {
     "name": "stdout",
     "output_type": "stream",
     "text": [
      "Model: \"sequential\"\n",
      "_________________________________________________________________\n",
      "Layer (type)                 Output Shape              Param #   \n",
      "=================================================================\n",
      "conv1d (Conv1D)              (None, 144, 32)           256       \n",
      "_________________________________________________________________\n",
      "dropout (Dropout)            (None, 144, 32)           0         \n",
      "_________________________________________________________________\n",
      "conv1d_1 (Conv1D)            (None, 72, 16)            3600      \n",
      "_________________________________________________________________\n",
      "conv1d_transpose (Conv1DTran (None, 144, 16)           1808      \n",
      "_________________________________________________________________\n",
      "dropout_1 (Dropout)          (None, 144, 16)           0         \n",
      "_________________________________________________________________\n",
      "conv1d_transpose_1 (Conv1DTr (None, 288, 32)           3616      \n",
      "_________________________________________________________________\n",
      "conv1d_transpose_2 (Conv1DTr (None, 288, 1)            225       \n",
      "=================================================================\n",
      "Total params: 9,505\n",
      "Trainable params: 9,505\n",
      "Non-trainable params: 0\n",
      "_________________________________________________________________\n"
     ]
    }
   ],
   "source": [
    "model = Sequential()\n",
    "\n",
    "model.add(Input(shape = (trainX.shape[1], trainX.shape[2])))\n",
    "\n",
    "model.add(Conv1D(32, 7, padding = 'same', strides = 2, activation = 'relu'))\n",
    "model.add(Dropout(0.2))\n",
    "\n",
    "model.add(Conv1D(16, 7, padding = 'same', strides = 2, activation = 'relu'))\n",
    "\n",
    "# print activations here if we want the latent representation\n",
    "\n",
    "model.add(Conv1DTranspose(16, 7, padding = 'same', strides = 2, activation = 'relu'))\n",
    "model.add(Dropout(0.2))\n",
    "\n",
    "model.add(Conv1DTranspose(32, 7, padding = 'same', strides = 2, activation = 'relu'))\n",
    "\n",
    "model.add(Conv1DTranspose(1, 7, padding = 'same'))\n",
    "\n",
    "model.compile(optimizer = 'adam', loss = 'mse')\n",
    "model.summary()"
   ]
  },
  {
   "cell_type": "code",
   "execution_count": 10,
   "metadata": {},
   "outputs": [
    {
     "name": "stdout",
     "output_type": "stream",
     "text": [
      "Epoch 1/50\n",
      "27/27 [==============================] - 7s 179ms/step - loss: 1663.5936 - val_loss: 174.4930\n",
      "Epoch 2/50\n",
      "27/27 [==============================] - 3s 106ms/step - loss: 159.8147 - val_loss: 78.7410\n",
      "Epoch 3/50\n",
      "27/27 [==============================] - 3s 103ms/step - loss: 99.6568 - val_loss: 60.6761\n",
      "Epoch 4/50\n",
      "27/27 [==============================] - 3s 103ms/step - loss: 84.6894 - val_loss: 57.8485\n",
      "Epoch 5/50\n",
      "27/27 [==============================] - 3s 114ms/step - loss: 70.2409 - val_loss: 52.3140\n",
      "Epoch 6/50\n",
      "27/27 [==============================] - 3s 107ms/step - loss: 57.5190 - val_loss: 53.6511\n",
      "Epoch 7/50\n",
      "27/27 [==============================] - 2s 90ms/step - loss: 49.5480 - val_loss: 48.8596\n",
      "Epoch 8/50\n",
      "27/27 [==============================] - 3s 101ms/step - loss: 43.5575 - val_loss: 43.0727\n",
      "Epoch 9/50\n",
      "27/27 [==============================] - 3s 97ms/step - loss: 39.2360 - val_loss: 42.9834\n",
      "Epoch 10/50\n",
      "27/27 [==============================] - 3s 101ms/step - loss: 36.3749 - val_loss: 44.9237\n",
      "Epoch 11/50\n",
      "27/27 [==============================] - 3s 100ms/step - loss: 34.4514 - val_loss: 43.9668\n",
      "Epoch 12/50\n",
      "27/27 [==============================] - 3s 94ms/step - loss: 32.7787 - val_loss: 44.6783\n",
      "Epoch 13/50\n",
      "27/27 [==============================] - 3s 94ms/step - loss: 31.2584 - val_loss: 44.3825\n",
      "Epoch 14/50\n",
      "27/27 [==============================] - 3s 96ms/step - loss: 30.0502 - val_loss: 43.8382\n",
      "Epoch 15/50\n",
      "27/27 [==============================] - 3s 93ms/step - loss: 28.9158 - val_loss: 49.8995\n",
      "Epoch 16/50\n",
      "27/27 [==============================] - 3s 95ms/step - loss: 27.9239 - val_loss: 46.9493\n",
      "Epoch 17/50\n",
      "27/27 [==============================] - 3s 93ms/step - loss: 26.9518 - val_loss: 55.2235\n",
      "Epoch 18/50\n",
      "27/27 [==============================] - 2s 84ms/step - loss: 25.6028 - val_loss: 53.0195\n",
      "Epoch 19/50\n",
      "27/27 [==============================] - 2s 91ms/step - loss: 24.8306 - val_loss: 55.3561\n",
      "Epoch 20/50\n",
      "27/27 [==============================] - 2s 92ms/step - loss: 24.4370 - val_loss: 78.9200\n",
      "Epoch 21/50\n",
      "27/27 [==============================] - 2s 87ms/step - loss: 23.8689 - val_loss: 67.0550\n",
      "Epoch 22/50\n",
      "27/27 [==============================] - 2s 83ms/step - loss: 23.1178 - val_loss: 78.4395\n",
      "Epoch 23/50\n",
      "27/27 [==============================] - 2s 79ms/step - loss: 22.3338 - val_loss: 86.4949\n",
      "Epoch 24/50\n",
      "27/27 [==============================] - 2s 76ms/step - loss: 22.0528 - val_loss: 82.2744\n",
      "Epoch 25/50\n",
      "27/27 [==============================] - 2s 77ms/step - loss: 21.4721 - val_loss: 89.1501\n",
      "Epoch 26/50\n",
      "27/27 [==============================] - 2s 75ms/step - loss: 21.0055 - val_loss: 100.3914\n",
      "Epoch 27/50\n",
      "27/27 [==============================] - 2s 81ms/step - loss: 20.7018 - val_loss: 102.7911\n",
      "Epoch 28/50\n",
      "27/27 [==============================] - 2s 77ms/step - loss: 20.1486 - val_loss: 110.8331\n",
      "Epoch 29/50\n",
      "27/27 [==============================] - 2s 82ms/step - loss: 19.7805 - val_loss: 103.5604\n",
      "Epoch 30/50\n",
      "27/27 [==============================] - 2s 82ms/step - loss: 19.4277 - val_loss: 111.0960\n",
      "Epoch 31/50\n",
      "27/27 [==============================] - 2s 86ms/step - loss: 18.9618 - val_loss: 127.4731\n",
      "Epoch 32/50\n",
      "27/27 [==============================] - 2s 81ms/step - loss: 18.9143 - val_loss: 110.6800\n",
      "Epoch 33/50\n",
      "27/27 [==============================] - 2s 79ms/step - loss: 18.3115 - val_loss: 130.2765\n",
      "Epoch 34/50\n",
      "27/27 [==============================] - 2s 79ms/step - loss: 18.1199 - val_loss: 144.7185\n",
      "Epoch 35/50\n",
      "27/27 [==============================] - 2s 88ms/step - loss: 17.8161 - val_loss: 150.1496\n",
      "Epoch 36/50\n",
      "27/27 [==============================] - 2s 81ms/step - loss: 17.6118 - val_loss: 143.0574\n",
      "Epoch 37/50\n",
      "27/27 [==============================] - 2s 76ms/step - loss: 17.2796 - val_loss: 142.7222\n",
      "Epoch 38/50\n",
      "27/27 [==============================] - 2s 79ms/step - loss: 17.1864 - val_loss: 140.1502\n",
      "Epoch 39/50\n",
      "27/27 [==============================] - 2s 78ms/step - loss: 16.8528 - val_loss: 131.1995\n",
      "Epoch 40/50\n",
      "27/27 [==============================] - 2s 79ms/step - loss: 16.7238 - val_loss: 148.6281\n",
      "Epoch 41/50\n",
      "27/27 [==============================] - 2s 77ms/step - loss: 16.4015 - val_loss: 159.5272\n",
      "Epoch 42/50\n",
      "27/27 [==============================] - 2s 78ms/step - loss: 16.3159 - val_loss: 165.3509\n",
      "Epoch 43/50\n",
      "27/27 [==============================] - 2s 79ms/step - loss: 16.2226 - val_loss: 160.1097\n",
      "Epoch 44/50\n",
      "27/27 [==============================] - 2s 83ms/step - loss: 15.9822 - val_loss: 165.6449\n",
      "Epoch 45/50\n",
      "27/27 [==============================] - 2s 82ms/step - loss: 15.7216 - val_loss: 165.0644\n",
      "Epoch 46/50\n",
      "27/27 [==============================] - 2s 78ms/step - loss: 15.6219 - val_loss: 167.2816\n",
      "Epoch 47/50\n",
      "27/27 [==============================] - 2s 78ms/step - loss: 15.4337 - val_loss: 163.3958\n",
      "Epoch 48/50\n",
      "27/27 [==============================] - 2s 79ms/step - loss: 15.2006 - val_loss: 166.1895\n",
      "Epoch 49/50\n",
      "27/27 [==============================] - 2s 79ms/step - loss: 15.1673 - val_loss: 171.1650\n",
      "Epoch 50/50\n",
      "27/27 [==============================] - 2s 78ms/step - loss: 15.0189 - val_loss: 180.4208\n"
     ]
    }
   ],
   "source": [
    "H = model.fit(trainX, trainX, epochs = 50, batch_size = 128, validation_split = 0.1)"
   ]
  },
  {
   "cell_type": "code",
   "execution_count": null,
   "metadata": {},
   "outputs": [],
   "source": []
  },
  {
   "cell_type": "code",
   "execution_count": null,
   "metadata": {},
   "outputs": [],
   "source": []
  },
  {
   "cell_type": "code",
   "execution_count": null,
   "metadata": {},
   "outputs": [],
   "source": [
    "# set the matplotlib backend so figures can be saved in the background\n",
    "import matplotlib\n",
    "matplotlib.use(\"Agg\")\n",
    "\n",
    "# import the necessary packages\n",
    "import cv2\n",
    "import matplotlib.pyplot as plt\n",
    "import numpy as np\n",
    "\n",
    "from tensorflow.keras.datasets import mnist\n",
    "from tensorflow.keras.layers import BatchNormalization\n",
    "from tensorflow.keras.layers import Conv2D\n",
    "from tensorflow.keras.layers import Conv2DTranspose\n",
    "from tensorflow.keras.layers import LeakyReLU\n",
    "from tensorflow.keras.layers import Activation\n",
    "from tensorflow.keras.layers import Flatten\n",
    "from tensorflow.keras.layers import Dense\n",
    "from tensorflow.keras.layers import Reshape\n",
    "from tensorflow.keras.layers import Input\n",
    "from tensorflow.keras.models import Model\n",
    "from tensorflow.keras.optimizers import Adam\n",
    "import tensorflow.keras.backend as Backend\n",
    "import numpy as np"
   ]
  }
 ],
 "metadata": {
  "kernelspec": {
   "display_name": "Python 3.7 (DL)",
   "language": "python",
   "name": "dl"
  },
  "language_info": {
   "codemirror_mode": {
    "name": "ipython",
    "version": 3
   },
   "file_extension": ".py",
   "mimetype": "text/x-python",
   "name": "python",
   "nbconvert_exporter": "python",
   "pygments_lexer": "ipython3",
   "version": "3.7.7"
  }
 },
 "nbformat": 4,
 "nbformat_minor": 4
}
